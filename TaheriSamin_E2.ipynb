{
  "nbformat": 4,
  "nbformat_minor": 0,
  "metadata": {
    "colab": {
      "name": "TaheriSamin_E2.ipynb",
      "provenance": [],
      "collapsed_sections": [],
      "authorship_tag": "ABX9TyOZYM6uYSDVHqGMsI73ZerI",
      "include_colab_link": true
    },
    "kernelspec": {
      "name": "python3",
      "display_name": "Python 3"
    },
    "language_info": {
      "name": "python"
    }
  },
  "cells": [
    {
      "cell_type": "markdown",
      "metadata": {
        "id": "view-in-github",
        "colab_type": "text"
      },
      "source": [
        "<a href=\"https://colab.research.google.com/github/samin-taheri/vehicle-ticket-application/blob/main/TaheriSamin_E2.ipynb\" target=\"_parent\"><img src=\"https://colab.research.google.com/assets/colab-badge.svg\" alt=\"Open In Colab\"/></a>"
      ]
    },
    {
      "cell_type": "markdown",
      "source": [
        "# Samin Taheri   20180808001"
      ],
      "metadata": {
        "id": "e7MA6w3q7_FZ"
      }
    },
    {
      "cell_type": "markdown",
      "source": [
        "**4 Lists**\n",
        "\n",
        "**Exercise 4.1: Short questions**\n",
        "\n",
        "(a)"
      ],
      "metadata": {
        "id": "MyNEfWQP729O"
      }
    },
    {
      "cell_type": "code",
      "source": [
        "def list_elements(list):\n",
        "    for item in list:\n",
        "        print(item)"
      ],
      "metadata": {
        "id": "xCNhqSEb-aM4"
      },
      "execution_count": null,
      "outputs": []
    },
    {
      "cell_type": "markdown",
      "source": [
        "(b)"
      ],
      "metadata": {
        "id": "piicxrZSA1o5"
      }
    },
    {
      "cell_type": "code",
      "source": [
        "def list_elements(list):\n",
        "    new = []\n",
        "    for item in list:\n",
        "        new.insert(0, item)\n",
        "    for element in new:\n",
        "        print(element)"
      ],
      "metadata": {
        "id": "D11auIK6_z3b"
      },
      "execution_count": null,
      "outputs": []
    },
    {
      "cell_type": "markdown",
      "source": [
        "(c)"
      ],
      "metadata": {
        "id": "_XwHdaSTA4Uv"
      }
    },
    {
      "cell_type": "code",
      "source": [
        "def len(element):\n",
        "    count = 0\n",
        "    for i in element:\n",
        "        count+= 1\n",
        "    return count\n",
        "element = \"samin\"\n",
        "print(len(element))"
      ],
      "metadata": {
        "colab": {
          "base_uri": "https://localhost:8080/"
        },
        "id": "tHRFugZEATml",
        "outputId": "b775358e-1586-4c5a-e5e5-c072765daf13"
      },
      "execution_count": null,
      "outputs": [
        {
          "output_type": "stream",
          "name": "stdout",
          "text": [
            "5\n"
          ]
        }
      ]
    },
    {
      "cell_type": "markdown",
      "source": [
        "**Exercise 4.2: Copying lists**\n",
        "\n",
        "- after changing b[1], a[1] changes as well.\n",
        "- after changing c[2], a[2] stays the same.\n",
        "- The list was changed."
      ],
      "metadata": {
        "id": "_sjxJEtNA7v5"
      }
    },
    {
      "cell_type": "code",
      "source": [
        "a = [9,1,2,3,4]\n",
        "b = a\n",
        "b[1] = 5\n",
        "print(b)\n",
        "print(a)\n",
        "c = a[:]\n",
        "c[2] = 6\n",
        "print(c)\n",
        "print(a)\n",
        "\n",
        "def set_first_elem_to_zero(list):\n",
        "    list[0] = 0\n",
        "    return list\n",
        "print(list)"
      ],
      "metadata": {
        "colab": {
          "base_uri": "https://localhost:8080/"
        },
        "id": "fiE6M8RCA_UJ",
        "outputId": "6c217a93-e54e-4398-e4d1-5075ee7e604c"
      },
      "execution_count": null,
      "outputs": [
        {
          "output_type": "stream",
          "name": "stdout",
          "text": [
            "[9, 5, 2, 3, 4]\n",
            "[9, 5, 2, 3, 4]\n",
            "[9, 5, 6, 3, 4]\n",
            "[9, 5, 2, 3, 4]\n",
            "[0, 0, 'c', 'd']\n"
          ]
        }
      ]
    },
    {
      "cell_type": "markdown",
      "source": [
        "**Exercise 4.3: Lists of lists**\n",
        "\n",
        "Nothing, both are the same."
      ],
      "metadata": {
        "id": "quDM7kpmK0d1"
      }
    },
    {
      "cell_type": "code",
      "source": [
        "a = [[]] * 3\n",
        "a"
      ],
      "metadata": {
        "colab": {
          "base_uri": "https://localhost:8080/"
        },
        "id": "aXK_BGYzLO7W",
        "outputId": "f93946c1-66c8-469b-e1e5-e2df8865f56c"
      },
      "execution_count": null,
      "outputs": [
        {
          "output_type": "execute_result",
          "data": {
            "text/plain": [
              "[[], [], []]"
            ]
          },
          "metadata": {},
          "execution_count": 68
        }
      ]
    },
    {
      "cell_type": "code",
      "source": [
        "b = [[] for _ in range(3)]\n",
        "b"
      ],
      "metadata": {
        "colab": {
          "base_uri": "https://localhost:8080/"
        },
        "id": "WHUDsH-dLSnX",
        "outputId": "fa0bded0-be8e-4ce1-ac3f-5010eb6dded0"
      },
      "execution_count": null,
      "outputs": [
        {
          "output_type": "execute_result",
          "data": {
            "text/plain": [
              "[[], [], []]"
            ]
          },
          "metadata": {},
          "execution_count": 71
        }
      ]
    },
    {
      "cell_type": "markdown",
      "source": [
        "**Exercise 4.4: Lists and functions**"
      ],
      "metadata": {
        "id": "zoHx0jcYL1_Y"
      }
    },
    {
      "cell_type": "code",
      "source": [
        "def change_value(list, index):\n",
        "    list[index] = 0\n",
        "    return list \n",
        "index = 0\n",
        "print(change_value(list, index))"
      ],
      "metadata": {
        "colab": {
          "base_uri": "https://localhost:8080/"
        },
        "id": "m_puKGPQL4_K",
        "outputId": "e1949960-06fa-4ebe-d5da-f847fab377fd"
      },
      "execution_count": null,
      "outputs": [
        {
          "output_type": "stream",
          "name": "stdout",
          "text": [
            "[0, 0, 'c', 'd']\n"
          ]
        }
      ]
    },
    {
      "cell_type": "markdown",
      "source": [
        "**Exercise 4.5: Primes**"
      ],
      "metadata": {
        "id": "NVIODgxzRBrF"
      }
    },
    {
      "cell_type": "code",
      "source": [
        "def prime(n):\n",
        "    list = []\n",
        "    for i in range (0, n):\n",
        "        if (isprime(i)):\n",
        "            list.append(i)\n",
        "    return(list)\n",
        "print(prime(100))"
      ],
      "metadata": {
        "colab": {
          "base_uri": "https://localhost:8080/"
        },
        "id": "GErWuY4lRC9b",
        "outputId": "a184ad63-7f7b-4f19-f418-270d4ab3d301"
      },
      "execution_count": null,
      "outputs": [
        {
          "output_type": "stream",
          "name": "stdout",
          "text": [
            "[2, 3, 5, 7, 11, 13, 17, 19, 23, 29, 31, 37, 41, 43, 47, 53, 59, 61, 67, 71, 73, 79, 83, 89, 97]\n"
          ]
        }
      ]
    },
    {
      "cell_type": "code",
      "source": [
        "def first_primes(n):\n",
        "    count = 0\n",
        "    list = []\n",
        "    t = 0\n",
        "    while n > count:\n",
        "        if (isprime(t)):\n",
        "            list.append(t)\n",
        "            count += 1\n",
        "            t += 1\n",
        "        else:\n",
        "            t += 1\n",
        "    return list\n",
        "print(first_primes(20))"
      ],
      "metadata": {
        "id": "JEqnmi_VTJzu",
        "colab": {
          "base_uri": "https://localhost:8080/"
        },
        "outputId": "aaec54d1-84e5-4664-fcaf-9b2f31d5559d"
      },
      "execution_count": null,
      "outputs": [
        {
          "output_type": "stream",
          "name": "stdout",
          "text": [
            "[2, 3, 5, 7, 11, 13, 17, 19, 23, 29, 31, 37, 41, 43, 47, 53, 59, 61, 67, 71]\n"
          ]
        }
      ]
    },
    {
      "cell_type": "markdown",
      "source": [
        "**Exercise 4.6: List comprehensions**\n",
        "\n",
        "(a)"
      ],
      "metadata": {
        "id": "Fqj1j1W5cxlk"
      }
    },
    {
      "cell_type": "code",
      "source": [
        "n = [[i,j] for i in range(10) for j in range(10)]\n",
        "n.append([i,j])\n",
        "print(n)"
      ],
      "metadata": {
        "colab": {
          "base_uri": "https://localhost:8080/"
        },
        "id": "ovZDxCJRc5w8",
        "outputId": "20c7bb37-5135-4700-bbf9-9413bfdff4f5"
      },
      "execution_count": null,
      "outputs": [
        {
          "output_type": "stream",
          "name": "stdout",
          "text": [
            "[[0, 0], [0, 1], [0, 2], [0, 3], [0, 4], [0, 5], [0, 6], [0, 7], [0, 8], [0, 9], [1, 0], [1, 1], [1, 2], [1, 3], [1, 4], [1, 5], [1, 6], [1, 7], [1, 8], [1, 9], [2, 0], [2, 1], [2, 2], [2, 3], [2, 4], [2, 5], [2, 6], [2, 7], [2, 8], [2, 9], [3, 0], [3, 1], [3, 2], [3, 3], [3, 4], [3, 5], [3, 6], [3, 7], [3, 8], [3, 9], [4, 0], [4, 1], [4, 2], [4, 3], [4, 4], [4, 5], [4, 6], [4, 7], [4, 8], [4, 9], [5, 0], [5, 1], [5, 2], [5, 3], [5, 4], [5, 5], [5, 6], [5, 7], [5, 8], [5, 9], [6, 0], [6, 1], [6, 2], [6, 3], [6, 4], [6, 5], [6, 6], [6, 7], [6, 8], [6, 9], [7, 0], [7, 1], [7, 2], [7, 3], [7, 4], [7, 5], [7, 6], [7, 7], [7, 8], [7, 9], [8, 0], [8, 1], [8, 2], [8, 3], [8, 4], [8, 5], [8, 6], [8, 7], [8, 8], [8, 9], [9, 0], [9, 1], [9, 2], [9, 3], [9, 4], [9, 5], [9, 6], [9, 7], [9, 8], [9, 9], [9, 9]]\n"
          ]
        }
      ]
    },
    {
      "cell_type": "markdown",
      "source": [
        "(b)"
      ],
      "metadata": {
        "id": "xruNtRCJ8DSP"
      }
    },
    {
      "cell_type": "code",
      "source": [
        "n = [[i,j] for i in range(10) for j in range(10) if (i < j)]\n",
        "n.append([i,j])\n",
        "print(n)"
      ],
      "metadata": {
        "colab": {
          "base_uri": "https://localhost:8080/"
        },
        "id": "OinL8W6W8Epr",
        "outputId": "0629dd54-ece2-4930-d175-ad99b066c5f0"
      },
      "execution_count": null,
      "outputs": [
        {
          "output_type": "stream",
          "name": "stdout",
          "text": [
            "[[0, 1], [0, 2], [0, 3], [0, 4], [0, 5], [0, 6], [0, 7], [0, 8], [0, 9], [1, 2], [1, 3], [1, 4], [1, 5], [1, 6], [1, 7], [1, 8], [1, 9], [2, 3], [2, 4], [2, 5], [2, 6], [2, 7], [2, 8], [2, 9], [3, 4], [3, 5], [3, 6], [3, 7], [3, 8], [3, 9], [4, 5], [4, 6], [4, 7], [4, 8], [4, 9], [5, 6], [5, 7], [5, 8], [5, 9], [6, 7], [6, 8], [6, 9], [7, 8], [7, 9], [8, 9], [9, 9]]\n"
          ]
        }
      ]
    },
    {
      "cell_type": "markdown",
      "source": [
        "(c)"
      ],
      "metadata": {
        "id": "kvQHnRJTjV2i"
      }
    },
    {
      "cell_type": "code",
      "source": [
        "list = []\n",
        "for i in range(10):\n",
        "    for j in range(10):\n",
        "            if i < j and all(i % a != 0 for a in range(2, i)) and all(j % b != 0 for b in range(2, j)):\n",
        "                list += [i + j]\n",
        "print(list)"
      ],
      "metadata": {
        "colab": {
          "base_uri": "https://localhost:8080/"
        },
        "id": "cSqPMqzljYHk",
        "outputId": "39dec366-9908-46ca-a1e6-9fe99ffc6627"
      },
      "execution_count": null,
      "outputs": [
        {
          "output_type": "stream",
          "name": "stdout",
          "text": [
            "[1, 2, 3, 5, 7, 3, 4, 6, 8, 5, 7, 9, 8, 10, 12]\n"
          ]
        }
      ]
    },
    {
      "cell_type": "markdown",
      "source": [
        "or"
      ],
      "metadata": {
        "id": "WJcs6-gZo4Xz"
      }
    },
    {
      "cell_type": "code",
      "source": [
        "list = [(i+j) for i in range(10) for j in range(10) if i > j and all(i % b != 0 for b in range(2, i)) and all(j % a != 0 for a in range(2, j))]\n",
        "list += [i+j]\n",
        "print(list)"
      ],
      "metadata": {
        "colab": {
          "base_uri": "https://localhost:8080/"
        },
        "id": "CHVX0SdunyGe",
        "outputId": "bd235c0f-e36e-498b-cd76-07da39cc21c6"
      },
      "execution_count": null,
      "outputs": [
        {
          "output_type": "stream",
          "name": "stdout",
          "text": [
            "[1, 2, 3, 3, 4, 5, 5, 6, 7, 8, 7, 8, 9, 10, 12, 18]\n"
          ]
        }
      ]
    },
    {
      "cell_type": "markdown",
      "source": [
        "(d)"
      ],
      "metadata": {
        "id": "WCgMc57OpbJG"
      }
    },
    {
      "cell_type": "code",
      "source": [
        "def polynomial(y, x): \n",
        "  n = 0\n",
        "  temp = 0\n",
        "  for a in y:\n",
        "    temp = temp + (a * (x**n))\n",
        "    n += 1\n",
        "  return temp\n",
        "print(polynomial([1,2,3], 4))"
      ],
      "metadata": {
        "colab": {
          "base_uri": "https://localhost:8080/"
        },
        "id": "Gq39ZytGpc53",
        "outputId": "7a459457-30f0-40fd-a822-93823a1de37a"
      },
      "execution_count": null,
      "outputs": [
        {
          "output_type": "stream",
          "name": "stdout",
          "text": [
            "57\n"
          ]
        }
      ]
    },
    {
      "cell_type": "markdown",
      "source": [
        "**Exercise 4.7: Filter**"
      ],
      "metadata": {
        "id": "kroZioJqqCL8"
      }
    },
    {
      "cell_type": "code",
      "source": [
        "def myfilter(element):\n",
        "    return [x for x in element ]"
      ],
      "metadata": {
        "id": "n4hGj8BOqEaZ"
      },
      "execution_count": null,
      "outputs": []
    },
    {
      "cell_type": "markdown",
      "source": [
        "**Exercise 4.8: Flatten a list of lists**"
      ],
      "metadata": {
        "id": "NvC8U0x2qURg"
      }
    },
    {
      "cell_type": "code",
      "source": [
        "def flatter(element):\n",
        "    list = []\n",
        "    for item in element:\n",
        "        for element in item:\n",
        "            list.append(element)\n",
        "    return list \n",
        "element = [['a', 'b'], ['c', 'd']]\n",
        "print(flatter(element))"
      ],
      "metadata": {
        "colab": {
          "base_uri": "https://localhost:8080/"
        },
        "id": "Z9d-z2HoqVVg",
        "outputId": "da9aa6c6-dadc-48da-eddb-20ceae7c649d"
      },
      "execution_count": null,
      "outputs": [
        {
          "output_type": "stream",
          "name": "stdout",
          "text": [
            "['a', 'b', 'c', 'd']\n"
          ]
        }
      ]
    },
    {
      "cell_type": "markdown",
      "source": [
        "**Exercise 4.9: Finding the longest word**\n",
        "\n",
        "If a tie occurs, the longest word that appears last will be returned."
      ],
      "metadata": {
        "id": "yP-O_XLvsd68"
      }
    },
    {
      "cell_type": "code",
      "source": [
        "def longest(word):\n",
        "    length = 0     \n",
        "    for word in word.split():\n",
        "        if(len(word) > length):\n",
        "            length = len(word)\n",
        "    return length\n",
        "word = \"My name is Samin Taheri\"\n",
        "print(longest(word))"
      ],
      "metadata": {
        "colab": {
          "base_uri": "https://localhost:8080/"
        },
        "id": "vvqqUkyMsM63",
        "outputId": "8a597567-9f8f-4653-d1e6-7a8c78fe40fd"
      },
      "execution_count": null,
      "outputs": [
        {
          "output_type": "stream",
          "name": "stdout",
          "text": [
            "6\n"
          ]
        }
      ]
    },
    {
      "cell_type": "markdown",
      "source": [
        "**Exercise 4.10: Collatz sequence, part 2**"
      ],
      "metadata": {
        "id": "_TLOBgCcvQ0f"
      }
    },
    {
      "cell_type": "code",
      "source": [
        "def collatz_func(collatz):\n",
        "    collizt = []\n",
        "    while (collatz!=1):\n",
        "        if (collatz % 2 == 1): \n",
        "            collatz = 3 * collatz + 1\n",
        "            collizt.append(collatz)\n",
        "        elif (collatz % 2 == 0):\n",
        "            collatz = collatz / 2\n",
        "            collizt.append(collatz)\n",
        "    return collizt"
      ],
      "metadata": {
        "id": "e5BD1RZ0vUy1"
      },
      "execution_count": null,
      "outputs": []
    },
    {
      "cell_type": "code",
      "source": [
        "def longest_collatz(n):\n",
        "    longest = 0\n",
        "    longest_n = 0\n",
        "    for i in range(n):\n",
        "        result = collatz_func(i)\n",
        "        length = result[1]\n",
        "        if (length >= longest):\n",
        "            longest = length\n",
        "            longest_n = i\n",
        "    return longest_n"
      ],
      "metadata": {
        "id": "3SdAfstfvZFB"
      },
      "execution_count": null,
      "outputs": []
    },
    {
      "cell_type": "markdown",
      "source": [
        "**Exercise 4.11: Pivots**"
      ],
      "metadata": {
        "id": "NRHj4VPQv6pC"
      }
    },
    {
      "cell_type": "code",
      "source": [
        "def pivots(n, y):\n",
        "    new = list()\n",
        "    for element in y:\n",
        "        if (element < n):\n",
        "            y.remove(element)\n",
        "            new.append(element)\n",
        "    new.append(n)\n",
        "    new.extend(y)\n",
        "    return new\n",
        "print(pivots(3, [6, 4, 1, 7]))"
      ],
      "metadata": {
        "colab": {
          "base_uri": "https://localhost:8080/"
        },
        "id": "aimpMB5Vv9_k",
        "outputId": "d986997e-e6a8-4a37-d84e-92ac1734573b"
      },
      "execution_count": 3,
      "outputs": [
        {
          "output_type": "stream",
          "name": "stdout",
          "text": [
            "[1, 3, 6, 4, 7]\n"
          ]
        }
      ]
    },
    {
      "cell_type": "markdown",
      "source": [
        "**Exercise 4.12: Prime challenge**"
      ],
      "metadata": {
        "id": "6SWO6dhuwyiS"
      }
    },
    {
      "cell_type": "code",
      "source": [
        "list=range(1,101)\n",
        "for i in range(2,10):\n",
        "    list = filter(lambda x: x==i or x%i, l)\n",
        "print(list)"
      ],
      "metadata": {
        "colab": {
          "base_uri": "https://localhost:8080/"
        },
        "id": "BiW6L5uaw3Nl",
        "outputId": "f537591d-71f5-4891-bd67-7a8bdc046ca5"
      },
      "execution_count": null,
      "outputs": [
        {
          "output_type": "stream",
          "name": "stdout",
          "text": [
            "<filter object at 0x7f0c73316810>\n"
          ]
        }
      ]
    },
    {
      "cell_type": "markdown",
      "source": [
        "**5 Tuples**\n",
        "\n",
        "**Exercise 5.1: Swapping two values**"
      ],
      "metadata": {
        "id": "YoVEjHaDxGnL"
      }
    },
    {
      "cell_type": "code",
      "source": [
        "a=int(input(\"Enter a :\"))\n",
        "b=int(input(\"Enter b :\"))\n",
        "(a,b)=(b,a)\n",
        "print(\"a=\",a, \"b=\",b)"
      ],
      "metadata": {
        "colab": {
          "base_uri": "https://localhost:8080/"
        },
        "id": "n6YNm6BAxKkD",
        "outputId": "3a2b60b3-66a2-490b-9a5e-c2be833f1367"
      },
      "execution_count": null,
      "outputs": [
        {
          "output_type": "stream",
          "name": "stdout",
          "text": [
            "Enter a :23\n",
            "Enter b :34\n",
            "a= 34 b= 23\n"
          ]
        }
      ]
    },
    {
      "cell_type": "markdown",
      "source": [
        "**Exercise 5.2: Zip**"
      ],
      "metadata": {
        "id": "PRhk47gIxVdS"
      }
    },
    {
      "cell_type": "code",
      "source": [
        "x = [1,2,3,4]\n",
        "y = [5,6,7]\n",
        "y = zip(x, y)"
      ],
      "metadata": {
        "id": "e4Bic0SpxXWs"
      },
      "execution_count": null,
      "outputs": []
    },
    {
      "cell_type": "markdown",
      "source": [
        "**Exercise 5.3: Distances**"
      ],
      "metadata": {
        "id": "3-MNJPX9xXpa"
      }
    },
    {
      "cell_type": "code",
      "source": [
        "def dist(s, x, j):\n",
        "    b = x**2\n",
        "    for i in j:\n",
        "        a = distance_sq(s, i)\n",
        "        if a <= b: yield (i, a)"
      ],
      "metadata": {
        "id": "g0ZR4pWyxaI1"
      },
      "execution_count": null,
      "outputs": []
    },
    {
      "cell_type": "markdown",
      "source": [
        "**6 Dictionaries**\n",
        "\n",
        "**Exercise 6.1: Printing a dictionary**"
      ],
      "metadata": {
        "id": "wrmRRDAXxaWo"
      }
    },
    {
      "cell_type": "code",
      "source": [
        "def dictionary(dict):\n",
        "    for key, value in dict.items():\n",
        "        print(key + \": \" + value)\n",
        "print(dictionary({'name': 'Samin', 'age': '22', 'Surname': 'Taheri'}))"
      ],
      "metadata": {
        "colab": {
          "base_uri": "https://localhost:8080/"
        },
        "id": "6cKUb9mMxeC5",
        "outputId": "70a01ed5-9c97-4ec5-e4dd-a780bf2f353d"
      },
      "execution_count": null,
      "outputs": [
        {
          "output_type": "stream",
          "name": "stdout",
          "text": [
            "name: Samin\n",
            "age: 22\n",
            "Surname: Taheri\n",
            "None\n"
          ]
        }
      ]
    },
    {
      "cell_type": "markdown",
      "source": [
        "**Exercise 6.2: Histogram**"
      ],
      "metadata": {
        "id": "m4lN2xQExy62"
      }
    },
    {
      "cell_type": "code",
      "source": [
        "def histogram(list):\n",
        "    dict = {};\n",
        "    for item in list:\n",
        "        if item in dict:\n",
        "            value = dict[item];\n",
        "            value += 1;\n",
        "            dict[item] = value;\n",
        "        else:\n",
        "            dict[item] = 1;\n",
        "    print(dict)"
      ],
      "metadata": {
        "id": "fEKwm7c3x0we"
      },
      "execution_count": null,
      "outputs": []
    },
    {
      "cell_type": "markdown",
      "source": [
        "**Exercise 6.3: Get method**"
      ],
      "metadata": {
        "id": "3hQbPxqQx559"
      }
    },
    {
      "cell_type": "code",
      "source": [
        "def get(dictionary, key, default):\n",
        "    for k, v in dictionary.items():\n",
        "        if (k == key):\n",
        "            return v\n",
        "        return default"
      ],
      "metadata": {
        "id": "a4OJNpq7x9DH"
      },
      "execution_count": null,
      "outputs": []
    },
    {
      "cell_type": "markdown",
      "source": [
        "**Exercise 6.4: Random text generator**"
      ],
      "metadata": {
        "id": "GirYEsGq2TOS"
      }
    },
    {
      "cell_type": "code",
      "source": [
        "import urllib.request\n",
        "\n",
        "URL = \"https://github.com/schmit/Markov-chain-startercode.git\"\n",
        "response = urllib.request.urlopen(URL)\n",
        "text = response.read().decode()\n",
        "words = text.splitlines()"
      ],
      "metadata": {
        "id": "0bj4fFda2Ulh"
      },
      "execution_count": null,
      "outputs": []
    },
    {
      "cell_type": "markdown",
      "source": [
        "**Exercise 6.5: Vector functions**\n",
        "\n",
        "(a)"
      ],
      "metadata": {
        "id": "Ca-r_UHeyCNz"
      }
    },
    {
      "cell_type": "code",
      "source": [
        "def add_dense_vectors(vector1, vector2):\n",
        "    vector_final = []\n",
        "    if (len(vector1)!=len(vector2)):\n",
        "        return;\n",
        "    else:\n",
        "        for x, y in zip(vector1, vector2):\n",
        "            coordinate = x + y\n",
        "            vector_final.append(coordinate)\n",
        "        print(vector_final)"
      ],
      "metadata": {
        "id": "b8a7ivxoyDXK"
      },
      "execution_count": null,
      "outputs": []
    },
    {
      "cell_type": "markdown",
      "source": [
        "(b)"
      ],
      "metadata": {
        "id": "z_-Q2oZq1znq"
      }
    },
    {
      "cell_type": "code",
      "source": [
        "import numpy\n",
        "def dense_dot_product(vector1, vector2):\n",
        "    product = numpy.dot(vector1, vector2)\n",
        "    print(product)"
      ],
      "metadata": {
        "id": "TFsizadDyI2S"
      },
      "execution_count": null,
      "outputs": []
    },
    {
      "cell_type": "markdown",
      "source": [
        "(c)"
      ],
      "metadata": {
        "id": "rKeCD8Ju12MO"
      }
    },
    {
      "cell_type": "code",
      "source": [
        "def sparse_to_dense(dict):\n",
        "    vector_list = []\n",
        "    for key, value in dict.items():\n",
        "        vector_list.append(value)\n",
        "    return vector_list\n",
        "\n",
        "def add_sparse_vectors(vector1, vector2):\n",
        "    vector1 = sparse_to_dense(vector1)\n",
        "    vector2 = sparse_to_dense(vector2)\n",
        "    vector_final = []\n",
        "    if (len(vector1)!=len(vector2)):\n",
        "        return;\n",
        "    else:\n",
        "        for x, y in zip(vector1, vector2):\n",
        "            coordinate = x + y\n",
        "            vector_final.append(coordinate)\n",
        "        print(vector_final)"
      ],
      "metadata": {
        "id": "92x5L5O2yLZz"
      },
      "execution_count": null,
      "outputs": []
    },
    {
      "cell_type": "markdown",
      "source": [
        "(d)"
      ],
      "metadata": {
        "id": "7E-iHNVT130r"
      }
    },
    {
      "cell_type": "code",
      "source": [
        "import numpy\n",
        "def sparse_to_dense(dict):\n",
        "    vector_list = []\n",
        "    for key, value in dict.items():\n",
        "        vector_list.append(value)\n",
        "    return vector_list\n",
        "\n",
        "def sparse_dot_product(vector1, vector2):\n",
        "    vector1 = sparse_to_dense(vector1)\n",
        "    vector2 = sparse_to_dense(vector2)   \n",
        "    product = numpy.dot(vector1, vector2)\n",
        "    print(product)"
      ],
      "metadata": {
        "id": "Oywwl1VMyN2o"
      },
      "execution_count": null,
      "outputs": []
    },
    {
      "cell_type": "markdown",
      "source": [
        "(e)"
      ],
      "metadata": {
        "id": "QlXqv_IH15If"
      }
    },
    {
      "cell_type": "code",
      "source": [
        "def add_dense_sparse(vector1, vector2):\n",
        "    if type(vector1) is dict:\n",
        "        vector1 = sparse_to_dense(vector1)\n",
        "        vector_final = []\n",
        "        if (len(vector1)!=len(vector2)):\n",
        "            return;\n",
        "        else:\n",
        "            for x, y in zip(vector1, vector2):\n",
        "                coordinate = x + y\n",
        "                vector_final.append(coordinate)\n",
        "            print(vector_final)\n",
        "    elif type(vector2) is dict:\n",
        "        vector2 = sparse_to_dense(vector2)\n",
        "        vector_final = []\n",
        "        if (len(vector1)!=len(vector2)):\n",
        "            return;\n",
        "        else:\n",
        "            for x, y in zip(vector1, vector2):\n",
        "                coordinate = x + y\n",
        "                vector_final.append(coordinate)\n",
        "            print(vector_final)"
      ],
      "metadata": {
        "id": "-RfQhu5ayRTp"
      },
      "execution_count": null,
      "outputs": []
    },
    {
      "cell_type": "markdown",
      "source": [
        "(f)"
      ],
      "metadata": {
        "id": "kysOI2TH1686"
      }
    },
    {
      "cell_type": "code",
      "source": [
        "import numpy\n",
        "def dense_dot_product(vector1, vector2):\n",
        "    product = numpy.dot(vector1, vector2)\n",
        "    print(product)\n",
        "    \n",
        "def dot_product_dense_sparse(vector1, vector2):\n",
        "    if type(vector1) is dict:\n",
        "        vector1 = sparse_to_dense(vector1)\n",
        "        vector_final = []\n",
        "        if (len(vector1)!=len(vector2)):\n",
        "            return;\n",
        "        else:\n",
        "           dense_dot_product(vector1, vector2)\n",
        "    elif type(vector2) is dict:\n",
        "        vector2 = sparse_to_dense(vector2)\n",
        "        vector_final = []\n",
        "        if (len(vector1)!=len(vector2)):\n",
        "            return;\n",
        "        else:\n",
        "            dense_dot_product(vector1, vector2)"
      ],
      "metadata": {
        "id": "sm03fwMSyTrg"
      },
      "execution_count": null,
      "outputs": []
    },
    {
      "cell_type": "markdown",
      "source": [
        "**Exercise 6.5: Vector functions**"
      ],
      "metadata": {
        "id": "yU6fv8lFyXPU"
      }
    },
    {
      "cell_type": "code",
      "source": [
        "def reverse_lookup(dict, search):\n",
        "    for key, value in dict.items():\n",
        "        if (value == search):\n",
        "            print (key)\n",
        "dictionary = {\"name\":\"Samin\", \"age\":\"22\", \"lastname\": \"Taheri\", \"family\":\"Dad\"}\n",
        "reverse_lookup(dictionary, \"Dad\")"
      ],
      "metadata": {
        "colab": {
          "base_uri": "https://localhost:8080/"
        },
        "id": "hkgzRFf1ybbD",
        "outputId": "f6c49e23-8bd8-4e9b-a225-874133310a1d"
      },
      "execution_count": null,
      "outputs": [
        {
          "output_type": "stream",
          "name": "stdout",
          "text": [
            "family\n"
          ]
        }
      ]
    }
  ]
}